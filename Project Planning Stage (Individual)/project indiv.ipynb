{
 "cells": [
  {
   "cell_type": "code",
   "execution_count": 2,
   "id": "fc6f685c-21b5-47f5-8ddb-1b850fd67a4a",
   "metadata": {},
   "outputs": [
    {
     "ename": "ERROR",
     "evalue": "Error in read_csv(url): could not find function \"read_csv\"\n",
     "output_type": "error",
     "traceback": [
      "Error in read_csv(url): could not find function \"read_csv\"\nTraceback:\n"
     ]
    }
   ],
   "source": [
    "url <- \"https://canvas.ubc.ca/courses/153254/files/37600949/download?download_frd=1\"\n",
    "canlang_data <- read_csv(url)\n",
    "\n"
   ]
  },
  {
   "cell_type": "code",
   "execution_count": null,
   "id": "f887be44-f54e-4ddc-ac0c-0779d5a8423d",
   "metadata": {},
   "outputs": [],
   "source": []
  }
 ],
 "metadata": {
  "kernelspec": {
   "display_name": "R",
   "language": "R",
   "name": "ir"
  },
  "language_info": {
   "codemirror_mode": "r",
   "file_extension": ".r",
   "mimetype": "text/x-r-source",
   "name": "R",
   "pygments_lexer": "r",
   "version": "4.3.3"
  }
 },
 "nbformat": 4,
 "nbformat_minor": 5
}
